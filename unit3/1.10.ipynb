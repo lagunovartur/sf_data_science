{
 "cells": [
  {
   "cell_type": "code",
   "execution_count": 53,
   "metadata": {
    "collapsed": true
   },
   "outputs": [],
   "source": [
    "import numpy as np\n",
    "\n",
    "Husband_Income = np.array([100,220,140])\n",
    "Wife_Income = np.array([150,200,130])\n",
    "Mother_In_Law_Income = np.array([90,80,100])\n",
    "\n",
    "Husband_Сonsumption = np.array([50,50,60])\n",
    "Wife_Сonsumption = np.array([100,80,140])\n",
    "Mother_In_Law_Сonsumption = np.array([100,20,140])"
   ]
  },
  {
   "cell_type": "code",
   "execution_count": 54,
   "outputs": [
    {
     "name": "stdout",
     "output_type": "stream",
     "text": [
      "[[100 150  90]\n",
      " [220 200  80]\n",
      " [140 130 100]]\n"
     ]
    }
   ],
   "source": [
    "inc = np.array([Husband_Income,Wife_Income,Mother_In_Law_Income])\n",
    "inc = inc.transpose()\n",
    "print(inc)"
   ],
   "metadata": {
    "collapsed": false,
    "pycharm": {
     "name": "#%%\n"
    }
   }
  },
  {
   "cell_type": "code",
   "execution_count": 55,
   "outputs": [
    {
     "name": "stdout",
     "output_type": "stream",
     "text": [
      "[[ 50 100 100]\n",
      " [ 50  80  20]\n",
      " [ 60 140 140]]\n"
     ]
    }
   ],
   "source": [
    "cons = np.array([Husband_Сonsumption,Wife_Сonsumption,Mother_In_Law_Сonsumption])\n",
    "cons = cons.transpose()\n",
    "print(cons)"
   ],
   "metadata": {
    "collapsed": false,
    "pycharm": {
     "name": "#%%\n"
    }
   }
  },
  {
   "cell_type": "code",
   "execution_count": 56,
   "outputs": [
    {
     "name": "stdout",
     "output_type": "stream",
     "text": [
      "[[100 150  90]\n",
      " [220 200  80]\n",
      " [140 130 100]]\n",
      "[[ 87.  130.5  78.3]\n",
      " [191.4 174.   69.6]\n",
      " [121.8 113.1  87. ]]\n"
     ]
    }
   ],
   "source": [
    "print(inc)\n",
    "inc_after_taxe = inc - inc*0.13\n",
    "print(inc_after_taxe)\n"
   ],
   "metadata": {
    "collapsed": false,
    "pycharm": {
     "name": "#%%\n"
    }
   }
  },
  {
   "cell_type": "code",
   "execution_count": 58,
   "outputs": [
    {
     "name": "stdout",
     "output_type": "stream",
     "text": [
      "[[ 37.   30.5 -21.7]\n",
      " [141.4  94.   49.6]\n",
      " [ 61.8 -26.9 -53. ]]\n"
     ]
    }
   ],
   "source": [
    "p = inc_after_taxe-cons\n",
    "print(p)\n"
   ],
   "metadata": {
    "collapsed": false,
    "pycharm": {
     "name": "#%%\n"
    }
   }
  },
  {
   "cell_type": "code",
   "execution_count": 60,
   "outputs": [
    {
     "name": "stdout",
     "output_type": "stream",
     "text": [
      "[[ 3  4  5  7]\n",
      " [11  8 17  0]\n",
      " [ 4  3  5  0]]\n"
     ]
    }
   ],
   "source": [
    "A = np.array([[1,-1,2,4,0],[8,2,0,5,3],[0,1,2,1,2]])\n",
    "B = np.array([[1,0,1,0],[0,0,2,-1],[1,0,1,1],[0,1,1,1],[1,1,0,-1]])\n",
    "\n",
    "print(A@B)\n"
   ],
   "metadata": {
    "collapsed": false,
    "pycharm": {
     "name": "#%%\n"
    }
   }
  }
 ],
 "metadata": {
  "kernelspec": {
   "display_name": "Python 3",
   "language": "python",
   "name": "python3"
  },
  "language_info": {
   "codemirror_mode": {
    "name": "ipython",
    "version": 2
   },
   "file_extension": ".py",
   "mimetype": "text/x-python",
   "name": "python",
   "nbconvert_exporter": "python",
   "pygments_lexer": "ipython2",
   "version": "2.7.6"
  }
 },
 "nbformat": 4,
 "nbformat_minor": 0
}