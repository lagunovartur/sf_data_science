{
 "cells": [
  {
   "cell_type": "code",
   "execution_count": 49,
   "metadata": {
    "collapsed": true
   },
   "outputs": [],
   "source": [
    "import numpy as np\n",
    "import pandas as pd"
   ]
  },
  {
   "cell_type": "code",
   "execution_count": 50,
   "outputs": [],
   "source": [
    "A = np.array([[5,-1,3,1,2], [-2,8,5,-1,1]])\n",
    "x = np.array([1,2,3,4,5])"
   ],
   "metadata": {
    "collapsed": false,
    "pycharm": {
     "name": "#%%\n"
    }
   }
  },
  {
   "cell_type": "code",
   "execution_count": 51,
   "outputs": [
    {
     "name": "stdout",
     "output_type": "stream",
     "text": [
      "[26 30]\n"
     ]
    }
   ],
   "source": [
    "print(A@x)\n"
   ],
   "metadata": {
    "collapsed": false,
    "pycharm": {
     "name": "#%%\n"
    }
   }
  },
  {
   "cell_type": "code",
   "execution_count": 52,
   "outputs": [],
   "source": [
    "A = np.array([[1,9,8,5], [3,6,3,2], [3,3,3,3], [0,2,5,9], [4,4,1,2]])\n",
    "B = np.array([[1,-1,0,1,1], [-2,0,2,-1,1]])"
   ],
   "metadata": {
    "collapsed": false,
    "pycharm": {
     "name": "#%%\n"
    }
   }
  },
  {
   "cell_type": "code",
   "execution_count": 53,
   "outputs": [
    {
     "name": "stdout",
     "output_type": "stream",
     "text": [
      "[[  2   9  11  14]\n",
      " [  8 -10 -14 -11]]\n"
     ]
    }
   ],
   "source": [
    "print(B@A)\n"
   ],
   "metadata": {
    "collapsed": false,
    "pycharm": {
     "name": "#%%\n"
    }
   }
  },
  {
   "cell_type": "code",
   "execution_count": 54,
   "outputs": [],
   "source": [
    "x = np.array([1,2,1,0,4])\n",
    "y = np.array([2,1,-1,1,0])\n",
    "z = np.array([-1,1,-1,0,0])"
   ],
   "metadata": {
    "collapsed": false,
    "pycharm": {
     "name": "#%%\n"
    }
   }
  },
  {
   "cell_type": "code",
   "execution_count": 55,
   "outputs": [
    {
     "name": "stdout",
     "output_type": "stream",
     "text": [
      "[[22  3  0]\n",
      " [ 3  7  0]\n",
      " [ 0  0  3]]\n"
     ]
    }
   ],
   "source": [
    "A = np.array([x,y,z]).T\n",
    "\n",
    "print(A.T@A)\n",
    "\n"
   ],
   "metadata": {
    "collapsed": false,
    "pycharm": {
     "name": "#%%\n"
    }
   }
  },
  {
   "cell_type": "code",
   "execution_count": 56,
   "outputs": [],
   "source": [
    "Count_DF = pd.DataFrame({'Женские стрижки': [10, 2, 12, 4, 6, 10, 22, 7],\n",
    "                                'Мужские стрижки': [5, 21, 12, 8, 25, 3, 1, 0],\n",
    "                                'Окрашивания':[12, 3, 0, 18, 27, 2, 4, 31],\n",
    "                              'Укладка':[15, 25, 30, 14, 25, 17, 25, 31],\n",
    "                                'Уход':[10, 6, 4, 5, 18, 12, 20, 28]\n",
    "                                },\n",
    "                               index=['Аня', 'Борис', 'Вика', 'Галя', 'Дима', 'Егор', 'Женя','Юра'])\n",
    "\n",
    "Price_DF = pd.DataFrame({'Женские стрижки': [2, 1.8, 2, 1.8, 2.5, 5, 1.1, 4.5],\n",
    "                                'Мужские стрижки': [1.5, 2.5, 2, 1.2, 3.5, 5, 1, 4],\n",
    "                                'Окрашивания':[1, 1, 0, 2.8, 2, 3, 1.5, 2.5],\n",
    "                              'Укладка':[0.8, 1, 0.5, 0.8, 1, 2, 0.5, 1],\n",
    "                                'Уход':[1, 1, 2, 2, 1.5, 2.5, 1.7, 2]\n",
    "                                },\n",
    "                               index=['Аня', 'Борис', 'Вика', 'Галя', 'Дима', 'Егор', 'Женя','Юра'])\n"
   ],
   "metadata": {
    "collapsed": false,
    "pycharm": {
     "name": "#%%\n"
    }
   }
  },
  {
   "cell_type": "code",
   "execution_count": 57,
   "outputs": [
    {
     "name": "stdout",
     "output_type": "stream",
     "text": [
      "[[20.   7.5 12.  12.  10. ]\n",
      " [ 3.6 52.5  3.  25.   6. ]\n",
      " [24.  24.   0.  15.   8. ]\n",
      " [ 7.2  9.6 50.4 11.2 10. ]\n",
      " [15.  87.5 54.  25.  27. ]\n",
      " [50.  15.   6.  34.  30. ]\n",
      " [24.2  1.   6.  12.5 34. ]\n",
      " [31.5  0.  77.5 31.  56. ]]\n"
     ]
    }
   ],
   "source": [
    "revenue = Count_DF.values*Price_DF.values\n",
    "print(revenue)"
   ],
   "metadata": {
    "collapsed": false,
    "pycharm": {
     "name": "#%%\n"
    }
   }
  },
  {
   "cell_type": "code",
   "execution_count": 58,
   "outputs": [],
   "source": [
    "commission = [0.2, 0.2, 0.3, 0.1, 0.1]"
   ],
   "metadata": {
    "collapsed": false,
    "pycharm": {
     "name": "#%%\n"
    }
   }
  },
  {
   "cell_type": "code",
   "execution_count": 59,
   "outputs": [
    {
     "name": "stdout",
     "output_type": "stream",
     "text": [
      "[11.3  15.22 11.9  20.6  41.9  21.2  11.49 38.25]\n"
     ]
    }
   ],
   "source": [
    "salon_revenue = revenue@commission\n",
    "print(salon_revenue)\n"
   ],
   "metadata": {
    "collapsed": false,
    "pycharm": {
     "name": "#%%\n"
    }
   }
  },
  {
   "cell_type": "code",
   "execution_count": 61,
   "outputs": [
    {
     "name": "stdout",
     "output_type": "stream",
     "text": [
      "[ 50.2   74.88  59.1   67.8  166.6  113.8   66.21 157.75]\n"
     ]
    }
   ],
   "source": [
    "profit = revenue@np.ones(5)-revenue@commission\n",
    "\n",
    "print(profit)"
   ],
   "metadata": {
    "collapsed": false,
    "pycharm": {
     "name": "#%%\n"
    }
   }
  },
  {
   "cell_type": "code",
   "execution_count": 63,
   "outputs": [
    {
     "name": "stdout",
     "output_type": "stream",
     "text": [
      "[[ 5. -2.]\n",
      " [-2.  1.]]\n"
     ]
    }
   ],
   "source": [
    "A = np.array([[1,2],[2,5]])\n",
    "print(np.linalg.inv(A))\n",
    "\n"
   ],
   "metadata": {
    "collapsed": false,
    "pycharm": {
     "name": "#%%\n"
    }
   }
  },
  {
   "cell_type": "code",
   "execution_count": 69,
   "outputs": [
    {
     "name": "stdout",
     "output_type": "stream",
     "text": [
      "[[ 1.16666667 -0.16666667]\n",
      " [-0.16666667  0.16666667]]\n",
      "[1.83333333 0.16666667]\n"
     ]
    }
   ],
   "source": [
    "A = np.array([[1,1],[1,7]])\n",
    "Ainv = np.linalg.inv(A)\n",
    "print(Ainv)\n",
    "b = np.array([2,3])\n",
    "print(Ainv@b)"
   ],
   "metadata": {
    "collapsed": false,
    "pycharm": {
     "name": "#%%\n"
    }
   }
  },
  {
   "cell_type": "code",
   "execution_count": 70,
   "outputs": [
    {
     "name": "stdout",
     "output_type": "stream",
     "text": [
      "2\n"
     ]
    }
   ],
   "source": [
    "A=np.array([[4,-4,0],[7,2,9],[-1,5,4]])\n",
    "print(np.linalg.matrix_rank(A))"
   ],
   "metadata": {
    "collapsed": false,
    "pycharm": {
     "name": "#%%\n"
    }
   }
  },
  {
   "cell_type": "code",
   "execution_count": 71,
   "outputs": [
    {
     "data": {
      "text/plain": "3"
     },
     "execution_count": 71,
     "metadata": {},
     "output_type": "execute_result"
    }
   ],
   "source": [
    "A = np.array([[8, 6, 11], [7, 5, 9],[6, 10, 6]])\n",
    "np.linalg.matrix_rank(A)"
   ],
   "metadata": {
    "collapsed": false,
    "pycharm": {
     "name": "#%%\n"
    }
   }
  },
  {
   "cell_type": "code",
   "execution_count": 72,
   "outputs": [
    {
     "data": {
      "text/plain": "array([[-1.875  ,  2.3125 , -0.03125],\n       [ 0.375  , -0.5625 ,  0.15625],\n       [ 1.25   , -1.375  , -0.0625 ]])"
     },
     "execution_count": 72,
     "metadata": {},
     "output_type": "execute_result"
    }
   ],
   "source": [
    "np.linalg.inv(A)"
   ],
   "metadata": {
    "collapsed": false,
    "pycharm": {
     "name": "#%%\n"
    }
   }
  },
  {
   "cell_type": "code",
   "execution_count": 76,
   "outputs": [
    {
     "data": {
      "text/plain": "4"
     },
     "execution_count": 76,
     "metadata": {},
     "output_type": "execute_result"
    }
   ],
   "source": [
    "v1 = np.array([9, 10, 7, 7, 9])\n",
    "v2 = np.array([2, 0, 5, 1, 4])\n",
    "v3 = np.array([4, 0, 0, 4, 1])\n",
    "v4 = np.array([3, -4, 3, -1, -4])\n",
    "\n",
    "A = np.array([v1,v2,v3,v4])\n",
    "np.linalg.matrix_rank(A)\n",
    "\n"
   ],
   "metadata": {
    "collapsed": false,
    "pycharm": {
     "name": "#%%\n"
    }
   }
  },
  {
   "cell_type": "code",
   "execution_count": 86,
   "outputs": [
    {
     "name": "stdout",
     "output_type": "stream",
     "text": [
      "[[360  96  73 -35]\n",
      " [ 96  46  16   4]\n",
      " [ 73  16  33   4]\n",
      " [-35   4   4  51]]\n"
     ]
    }
   ],
   "source": [
    "Agr=A\n",
    "print(Agr)"
   ],
   "metadata": {
    "collapsed": false,
    "pycharm": {
     "name": "#%%\n"
    }
   }
  },
  {
   "cell_type": "code",
   "execution_count": 87,
   "outputs": [
    {
     "name": "stdout",
     "output_type": "stream",
     "text": [
      "3716647.9999999995\n"
     ]
    }
   ],
   "source": [
    "print(np.linalg.det(Agr))"
   ],
   "metadata": {
    "collapsed": false,
    "pycharm": {
     "name": "#%%\n"
    }
   }
  },
  {
   "cell_type": "code",
   "execution_count": 88,
   "outputs": [
    {
     "name": "stdout",
     "output_type": "stream",
     "text": [
      "[[ 0.01711488 -0.02798543 -0.02623063  0.01599775]\n",
      " [-0.02798543  0.071967    0.03031441 -0.02722776]\n",
      " [-0.02623063  0.03031441  0.07683106 -0.02640498]\n",
      " [ 0.01599775 -0.02722776 -0.02640498  0.03479318]]\n"
     ]
    }
   ],
   "source": [
    "print(np.linalg.inv(Agr))\n",
    "\n"
   ],
   "metadata": {
    "collapsed": false,
    "pycharm": {
     "name": "#%%\n"
    }
   }
  },
  {
   "cell_type": "code",
   "execution_count": 89,
   "outputs": [],
   "source": [
    "A = [[4,-4,0],[7,2,9],[-1,5,4]]\n",
    "Aexp = [[4,-4,0],[7,2,9],[-1,5,4],[7,3,10]]\n",
    "\n",
    "r_Aexp = np.linalg.matrix_rank(Aexp)\n",
    "r_A = np.linalg.matrix_rank(A)\n"
   ],
   "metadata": {
    "collapsed": false,
    "pycharm": {
     "name": "#%%\n"
    }
   }
  },
  {
   "cell_type": "code",
   "execution_count": 91,
   "outputs": [],
   "source": [
    "A = [[1,1],[1,2],[1,1]]\n",
    "\n"
   ],
   "metadata": {
    "collapsed": false,
    "pycharm": {
     "name": "#%%\n"
    }
   }
  },
  {
   "cell_type": "code",
   "execution_count": 100,
   "outputs": [
    {
     "name": "stdout",
     "output_type": "stream",
     "text": [
      "[-0.5  1.6]\n"
     ]
    }
   ],
   "source": [
    "A = np.array([[1,-3,1,1],[2,1,2,-1]]).T\n",
    "b = np.array([1,4,5,0])\n",
    "bn = A.T@b\n",
    "Agr = A.T@A\n",
    "Agrinv =  np.linalg.inv(Agr)\n",
    "print(Agrinv@bn)\n"
   ],
   "metadata": {
    "collapsed": false,
    "pycharm": {
     "name": "#%%\n"
    }
   }
  }
 ],
 "metadata": {
  "kernelspec": {
   "display_name": "Python 3",
   "language": "python",
   "name": "python3"
  },
  "language_info": {
   "codemirror_mode": {
    "name": "ipython",
    "version": 2
   },
   "file_extension": ".py",
   "mimetype": "text/x-python",
   "name": "python",
   "nbconvert_exporter": "python",
   "pygments_lexer": "ipython2",
   "version": "2.7.6"
  }
 },
 "nbformat": 4,
 "nbformat_minor": 0
}