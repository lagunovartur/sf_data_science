{
 "cells": [
  {
   "cell_type": "code",
   "execution_count": 83,
   "metadata": {
    "collapsed": true
   },
   "outputs": [],
   "source": [
    "import numpy as np\n",
    "import pandas as pd"
   ]
  },
  {
   "cell_type": "code",
   "execution_count": 84,
   "outputs": [
    {
     "name": "stdout",
     "output_type": "stream",
     "text": [
      "[1.90e+01 2.00e+00 6.06e+04 2.00e+00 5.30e-01]\n",
      "5\n"
     ]
    }
   ],
   "source": [
    "apartment = np.array([59.50, 31.40, 19, 2, 60550, 2])\n",
    "share_living_space = round(apartment[1]/apartment[0],2)\n",
    "apartment = np.delete(apartment,[0,1])\n",
    "apartment = np.append(apartment,share_living_space)\n",
    "\n",
    "print(apartment)\n",
    "print(len(apartment))"
   ],
   "metadata": {
    "collapsed": false,
    "pycharm": {
     "name": "#%%\n"
    }
   }
  },
  {
   "cell_type": "code",
   "execution_count": 85,
   "outputs": [
    {
     "name": "stdout",
     "output_type": "stream",
     "text": [
      "[40 33  1  6 20 16]\n",
      "[ 5 12 10  3  6 13  8 21  5]\n",
      "10\n",
      "9\n"
     ]
    }
   ],
   "source": [
    "Hut_Paradise_DF = pd.DataFrame({'1.Rent': [65, 70, 120, 35, 40, 50, 100, 90, 85],\n",
    "                                '2.Area': [50, 52, 80, 33, 33, 44, 80, 65, 65],\n",
    "                                '3.Rooms':[3, 2, 1, 1, 1, 2, 4, 3, 2],\n",
    "                                '4.Floor':[5, 12, 10, 3, 6, 13, 8, 21, 5],\n",
    "                                '5.Demo two weeks':[8, 4, 5, 10, 20, 12, 5, 1, 10],\n",
    "                                '6.Liv.Area': [37, 40, 65, 20, 16, 35, 60, 50, 40]})\n",
    "\n",
    "Hut_Paradise_values = Hut_Paradise_DF.values\n",
    "h5 = Hut_Paradise_values[4]\n",
    "print(h5)\n",
    "\n",
    "f = Hut_Paradise_values[:,3]\n",
    "print(f)\n",
    "\n",
    "f3 = f[2]\n",
    "print(f3)\n",
    "\n",
    "print(len(f))"
   ],
   "metadata": {
    "collapsed": false,
    "pycharm": {
     "name": "#%%\n"
    }
   }
  },
  {
   "cell_type": "code",
   "execution_count": 86,
   "outputs": [
    {
     "name": "stdout",
     "output_type": "stream",
     "text": [
      "[13 12 15 13 17  9 20 15 25]\n"
     ]
    }
   ],
   "source": [
    "print(Hut_Paradise_values[:,1]-Hut_Paradise_values[:,5])\n",
    "\n"
   ],
   "metadata": {
    "collapsed": false,
    "pycharm": {
     "name": "#%%\n"
    }
   }
  },
  {
   "cell_type": "code",
   "execution_count": 87,
   "outputs": [
    {
     "name": "stdout",
     "output_type": "stream",
     "text": [
      "[26. 28. 48. 14. 16. 20. 40. 36. 34.]\n"
     ]
    }
   ],
   "source": [
    "print(Hut_Paradise_values[:,0]*0.4)"
   ],
   "metadata": {
    "collapsed": false,
    "pycharm": {
     "name": "#%%\n"
    }
   }
  },
  {
   "cell_type": "code",
   "execution_count": 88,
   "outputs": [],
   "source": [
    "demo = Hut_Paradise_values[:,4]\n",
    "time = np.array([10,20,30,15,5,40,20,8,20])\n",
    "\n",
    "full_time = demo@time\n"
   ],
   "metadata": {
    "collapsed": false,
    "pycharm": {
     "name": "#%%\n"
    }
   }
  },
  {
   "cell_type": "code",
   "execution_count": 89,
   "outputs": [],
   "source": [
    "u=np.array([3,0,1,1,1])\n",
    "v=np.array([0,1,0,2,-2])\n",
    "w=np.array([1,-4,-1,0,-2])\n",
    "\n",
    "\n",
    "uv = u@v\n",
    "uw = u@w\n",
    "vw = v@w"
   ],
   "metadata": {
    "collapsed": false,
    "pycharm": {
     "name": "#%%\n"
    }
   }
  },
  {
   "cell_type": "code",
   "execution_count": 90,
   "outputs": [],
   "source": [
    "l1 = 2*v-3*w\n",
    "l1u = l1@u"
   ],
   "metadata": {
    "collapsed": false,
    "pycharm": {
     "name": "#%%\n"
    }
   }
  },
  {
   "cell_type": "code",
   "execution_count": 91,
   "outputs": [],
   "source": [
    "u_norm = u/np.linalg.norm(u)\n",
    "v_norm = v/np.linalg.norm(v)\n",
    "w_norm = w/np.linalg.norm(w)\n"
   ],
   "metadata": {
    "collapsed": false,
    "pycharm": {
     "name": "#%%\n"
    }
   }
  }
 ],
 "metadata": {
  "kernelspec": {
   "display_name": "Python 3",
   "language": "python",
   "name": "python3"
  },
  "language_info": {
   "codemirror_mode": {
    "name": "ipython",
    "version": 2
   },
   "file_extension": ".py",
   "mimetype": "text/x-python",
   "name": "python",
   "nbconvert_exporter": "python",
   "pygments_lexer": "ipython2",
   "version": "2.7.6"
  }
 },
 "nbformat": 4,
 "nbformat_minor": 0
}