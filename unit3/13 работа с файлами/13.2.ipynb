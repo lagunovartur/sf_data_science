{
 "cells": [
  {
   "cell_type": "code",
   "execution_count": 13,
   "metadata": {
    "collapsed": true
   },
   "outputs": [],
   "source": [
    "import json\n",
    "import pandas as pd\n",
    "from pprint import pprint"
   ]
  },
  {
   "cell_type": "code",
   "execution_count": 14,
   "outputs": [],
   "source": [
    "with open('recipes.json') as f:\n",
    "     recipes = json.load(f)"
   ],
   "metadata": {
    "collapsed": false,
    "pycharm": {
     "name": "#%%\n"
    }
   }
  },
  {
   "cell_type": "code",
   "execution_count": 15,
   "outputs": [
    {
     "data": {
      "text/plain": "      id      cuisine                                        ingredients\n0  10259        greek  [romaine lettuce, black olives, grape tomatoes...\n1  25693  southern_us  [plain flour, ground pepper, salt, tomatoes, g...\n2  20130     filipino  [eggs, pepper, salt, mayonaise, cooking oil, g...\n3  22213       indian                [water, vegetable oil, wheat, salt]\n4  13162       indian  [black pepper, shallots, cornflour, cayenne pe...",
      "text/html": "<div>\n<style scoped>\n    .dataframe tbody tr th:only-of-type {\n        vertical-align: middle;\n    }\n\n    .dataframe tbody tr th {\n        vertical-align: top;\n    }\n\n    .dataframe thead th {\n        text-align: right;\n    }\n</style>\n<table border=\"1\" class=\"dataframe\">\n  <thead>\n    <tr style=\"text-align: right;\">\n      <th></th>\n      <th>id</th>\n      <th>cuisine</th>\n      <th>ingredients</th>\n    </tr>\n  </thead>\n  <tbody>\n    <tr>\n      <th>0</th>\n      <td>10259</td>\n      <td>greek</td>\n      <td>[romaine lettuce, black olives, grape tomatoes...</td>\n    </tr>\n    <tr>\n      <th>1</th>\n      <td>25693</td>\n      <td>southern_us</td>\n      <td>[plain flour, ground pepper, salt, tomatoes, g...</td>\n    </tr>\n    <tr>\n      <th>2</th>\n      <td>20130</td>\n      <td>filipino</td>\n      <td>[eggs, pepper, salt, mayonaise, cooking oil, g...</td>\n    </tr>\n    <tr>\n      <th>3</th>\n      <td>22213</td>\n      <td>indian</td>\n      <td>[water, vegetable oil, wheat, salt]</td>\n    </tr>\n    <tr>\n      <th>4</th>\n      <td>13162</td>\n      <td>indian</td>\n      <td>[black pepper, shallots, cornflour, cayenne pe...</td>\n    </tr>\n  </tbody>\n</table>\n</div>"
     },
     "execution_count": 15,
     "metadata": {},
     "output_type": "execute_result"
    }
   ],
   "source": [
    "df = pd.DataFrame(recipes)\n",
    "df.head()"
   ],
   "metadata": {
    "collapsed": false,
    "pycharm": {
     "name": "#%%\n"
    }
   }
  },
  {
   "cell_type": "code",
   "execution_count": 19,
   "outputs": [
    {
     "data": {
      "text/plain": "      id      cuisine  ingredients  California bay leaves  \\\n0  10259        greek            9                      0   \n1  25693  southern_us           11                      0   \n2  20130     filipino           12                      0   \n3  22213       indian            4                      0   \n4  13162       indian           20                      0   \n\n   frozen pastry puff sheets  brown mustard seeds  pepperoni  \\\n0                          0                    0          0   \n1                          0                    0          0   \n2                          0                    0          0   \n3                          0                    0          0   \n4                          0                    0          0   \n\n   water chestnuts, drained and chopped  black bean sauce  edamame  ...  \\\n0                                     0                 0        0  ...   \n1                                     0                 0        0  ...   \n2                                     0                 0        0  ...   \n3                                     0                 0        0  ...   \n4                                     0                 0        0  ...   \n\n   taco seasoning  ancho chile pepper  celery salt  napa cabbage  \\\n0               0                   0            0             0   \n1               0                   0            0             0   \n2               0                   0            0             0   \n3               0                   0            0             0   \n4               0                   0            0             0   \n\n   french bread  fresh tarragon  parsnips  butter lettuce  red chili powder  \\\n0             0               0         0               0                 0   \n1             0               0         0               0                 0   \n2             0               0         0               0                 0   \n3             0               0         0               0                 0   \n4             0               0         0               0                 0   \n\n   chocolate sauce  \n0                0  \n1                0  \n2                0  \n3                0  \n4                0  \n\n[5 rows x 1321 columns]",
      "text/html": "<div>\n<style scoped>\n    .dataframe tbody tr th:only-of-type {\n        vertical-align: middle;\n    }\n\n    .dataframe tbody tr th {\n        vertical-align: top;\n    }\n\n    .dataframe thead th {\n        text-align: right;\n    }\n</style>\n<table border=\"1\" class=\"dataframe\">\n  <thead>\n    <tr style=\"text-align: right;\">\n      <th></th>\n      <th>id</th>\n      <th>cuisine</th>\n      <th>ingredients</th>\n      <th>California bay leaves</th>\n      <th>frozen pastry puff sheets</th>\n      <th>brown mustard seeds</th>\n      <th>pepperoni</th>\n      <th>water chestnuts, drained and chopped</th>\n      <th>black bean sauce</th>\n      <th>edamame</th>\n      <th>...</th>\n      <th>taco seasoning</th>\n      <th>ancho chile pepper</th>\n      <th>celery salt</th>\n      <th>napa cabbage</th>\n      <th>french bread</th>\n      <th>fresh tarragon</th>\n      <th>parsnips</th>\n      <th>butter lettuce</th>\n      <th>red chili powder</th>\n      <th>chocolate sauce</th>\n    </tr>\n  </thead>\n  <tbody>\n    <tr>\n      <th>0</th>\n      <td>10259</td>\n      <td>greek</td>\n      <td>9</td>\n      <td>0</td>\n      <td>0</td>\n      <td>0</td>\n      <td>0</td>\n      <td>0</td>\n      <td>0</td>\n      <td>0</td>\n      <td>...</td>\n      <td>0</td>\n      <td>0</td>\n      <td>0</td>\n      <td>0</td>\n      <td>0</td>\n      <td>0</td>\n      <td>0</td>\n      <td>0</td>\n      <td>0</td>\n      <td>0</td>\n    </tr>\n    <tr>\n      <th>1</th>\n      <td>25693</td>\n      <td>southern_us</td>\n      <td>11</td>\n      <td>0</td>\n      <td>0</td>\n      <td>0</td>\n      <td>0</td>\n      <td>0</td>\n      <td>0</td>\n      <td>0</td>\n      <td>...</td>\n      <td>0</td>\n      <td>0</td>\n      <td>0</td>\n      <td>0</td>\n      <td>0</td>\n      <td>0</td>\n      <td>0</td>\n      <td>0</td>\n      <td>0</td>\n      <td>0</td>\n    </tr>\n    <tr>\n      <th>2</th>\n      <td>20130</td>\n      <td>filipino</td>\n      <td>12</td>\n      <td>0</td>\n      <td>0</td>\n      <td>0</td>\n      <td>0</td>\n      <td>0</td>\n      <td>0</td>\n      <td>0</td>\n      <td>...</td>\n      <td>0</td>\n      <td>0</td>\n      <td>0</td>\n      <td>0</td>\n      <td>0</td>\n      <td>0</td>\n      <td>0</td>\n      <td>0</td>\n      <td>0</td>\n      <td>0</td>\n    </tr>\n    <tr>\n      <th>3</th>\n      <td>22213</td>\n      <td>indian</td>\n      <td>4</td>\n      <td>0</td>\n      <td>0</td>\n      <td>0</td>\n      <td>0</td>\n      <td>0</td>\n      <td>0</td>\n      <td>0</td>\n      <td>...</td>\n      <td>0</td>\n      <td>0</td>\n      <td>0</td>\n      <td>0</td>\n      <td>0</td>\n      <td>0</td>\n      <td>0</td>\n      <td>0</td>\n      <td>0</td>\n      <td>0</td>\n    </tr>\n    <tr>\n      <th>4</th>\n      <td>13162</td>\n      <td>indian</td>\n      <td>20</td>\n      <td>0</td>\n      <td>0</td>\n      <td>0</td>\n      <td>0</td>\n      <td>0</td>\n      <td>0</td>\n      <td>0</td>\n      <td>...</td>\n      <td>0</td>\n      <td>0</td>\n      <td>0</td>\n      <td>0</td>\n      <td>0</td>\n      <td>0</td>\n      <td>0</td>\n      <td>0</td>\n      <td>0</td>\n      <td>0</td>\n    </tr>\n  </tbody>\n</table>\n<p>5 rows × 1321 columns</p>\n</div>"
     },
     "execution_count": 19,
     "metadata": {},
     "output_type": "execute_result"
    }
   ],
   "source": [
    "# 1. Создаем множество колонок\n",
    "dummy_columns = set()\n",
    "\n",
    "for recipe in recipes:\n",
    "    for ingredient in recipe['ingredients']:\n",
    "        dummy_columns.add(ingredient)\n",
    "\n",
    "# 2. Функция проверки\n",
    "item = None\n",
    "def find_item(cell):\n",
    "    return int(item in cell)\n",
    "\n",
    "# 3.Создаем колонки\n",
    "for item in dummy_columns:\n",
    "    df[item] = df['ingredients'].apply(lambda x: find_item(x))\n",
    "\n",
    "# 4. Заменям колонку ингредиентов на их количество в рецепте\n",
    "df['ingredients'] = df['ingredients'].apply(lambda x: len(x))\n",
    "\n",
    "df.head()"
   ],
   "metadata": {
    "collapsed": false,
    "pycharm": {
     "name": "#%%\n"
    }
   }
  }
 ],
 "metadata": {
  "kernelspec": {
   "display_name": "Python 3",
   "language": "python",
   "name": "python3"
  },
  "language_info": {
   "codemirror_mode": {
    "name": "ipython",
    "version": 2
   },
   "file_extension": ".py",
   "mimetype": "text/x-python",
   "name": "python",
   "nbconvert_exporter": "python",
   "pygments_lexer": "ipython2",
   "version": "2.7.6"
  }
 },
 "nbformat": 4,
 "nbformat_minor": 0
}