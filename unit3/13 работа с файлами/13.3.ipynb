{
 "cells": [
  {
   "cell_type": "code",
   "execution_count": 114,
   "metadata": {
    "collapsed": true
   },
   "outputs": [],
   "source": [
    "import pandas as pd\n",
    "from pprint import pprint\n",
    "import json"
   ]
  },
  {
   "cell_type": "code",
   "execution_count": 107,
   "outputs": [
    {
     "data": {
      "text/plain": "      id      cuisine  ingredients  romaine lettuce  black olives  \\\n0  10259        greek            9                1             1   \n1  25693  southern_us           11                0             0   \n2  20130     filipino           12                0             0   \n3  22213       indian            4                0             0   \n4  13162       indian           20                0             0   \n\n   grape tomatoes  garlic  pepper  purple onion  seasoning  ...  string beans  \\\n0               1       1       1             1          1  ...             0   \n1               0       0       0             0          0  ...             0   \n2               0       0       1             0          0  ...             0   \n3               0       0       0             0          0  ...             0   \n4               0       0       0             0          0  ...             0   \n\n   egg roll wraps  steamed rice  penne  Crystal Farms Butter  \\\n0               0             0      0                     0   \n1               0             0      0                     0   \n2               0             0      0                     0   \n3               0             0      0                     0   \n4               0             0      0                     0   \n\n   Crystal Farms Shredded Gouda Cheese  mint  berries  figs  sprinkles  \n0                                    0     0        0     0          0  \n1                                    0     0        0     0          0  \n2                                    0     0        0     0          0  \n3                                    0     0        0     0          0  \n4                                    0     0        0     0          0  \n\n[5 rows x 1321 columns]",
      "text/html": "<div>\n<style scoped>\n    .dataframe tbody tr th:only-of-type {\n        vertical-align: middle;\n    }\n\n    .dataframe tbody tr th {\n        vertical-align: top;\n    }\n\n    .dataframe thead th {\n        text-align: right;\n    }\n</style>\n<table border=\"1\" class=\"dataframe\">\n  <thead>\n    <tr style=\"text-align: right;\">\n      <th></th>\n      <th>id</th>\n      <th>cuisine</th>\n      <th>ingredients</th>\n      <th>romaine lettuce</th>\n      <th>black olives</th>\n      <th>grape tomatoes</th>\n      <th>garlic</th>\n      <th>pepper</th>\n      <th>purple onion</th>\n      <th>seasoning</th>\n      <th>...</th>\n      <th>string beans</th>\n      <th>egg roll wraps</th>\n      <th>steamed rice</th>\n      <th>penne</th>\n      <th>Crystal Farms Butter</th>\n      <th>Crystal Farms Shredded Gouda Cheese</th>\n      <th>mint</th>\n      <th>berries</th>\n      <th>figs</th>\n      <th>sprinkles</th>\n    </tr>\n  </thead>\n  <tbody>\n    <tr>\n      <th>0</th>\n      <td>10259</td>\n      <td>greek</td>\n      <td>9</td>\n      <td>1</td>\n      <td>1</td>\n      <td>1</td>\n      <td>1</td>\n      <td>1</td>\n      <td>1</td>\n      <td>1</td>\n      <td>...</td>\n      <td>0</td>\n      <td>0</td>\n      <td>0</td>\n      <td>0</td>\n      <td>0</td>\n      <td>0</td>\n      <td>0</td>\n      <td>0</td>\n      <td>0</td>\n      <td>0</td>\n    </tr>\n    <tr>\n      <th>1</th>\n      <td>25693</td>\n      <td>southern_us</td>\n      <td>11</td>\n      <td>0</td>\n      <td>0</td>\n      <td>0</td>\n      <td>0</td>\n      <td>0</td>\n      <td>0</td>\n      <td>0</td>\n      <td>...</td>\n      <td>0</td>\n      <td>0</td>\n      <td>0</td>\n      <td>0</td>\n      <td>0</td>\n      <td>0</td>\n      <td>0</td>\n      <td>0</td>\n      <td>0</td>\n      <td>0</td>\n    </tr>\n    <tr>\n      <th>2</th>\n      <td>20130</td>\n      <td>filipino</td>\n      <td>12</td>\n      <td>0</td>\n      <td>0</td>\n      <td>0</td>\n      <td>0</td>\n      <td>1</td>\n      <td>0</td>\n      <td>0</td>\n      <td>...</td>\n      <td>0</td>\n      <td>0</td>\n      <td>0</td>\n      <td>0</td>\n      <td>0</td>\n      <td>0</td>\n      <td>0</td>\n      <td>0</td>\n      <td>0</td>\n      <td>0</td>\n    </tr>\n    <tr>\n      <th>3</th>\n      <td>22213</td>\n      <td>indian</td>\n      <td>4</td>\n      <td>0</td>\n      <td>0</td>\n      <td>0</td>\n      <td>0</td>\n      <td>0</td>\n      <td>0</td>\n      <td>0</td>\n      <td>...</td>\n      <td>0</td>\n      <td>0</td>\n      <td>0</td>\n      <td>0</td>\n      <td>0</td>\n      <td>0</td>\n      <td>0</td>\n      <td>0</td>\n      <td>0</td>\n      <td>0</td>\n    </tr>\n    <tr>\n      <th>4</th>\n      <td>13162</td>\n      <td>indian</td>\n      <td>20</td>\n      <td>0</td>\n      <td>0</td>\n      <td>0</td>\n      <td>0</td>\n      <td>0</td>\n      <td>0</td>\n      <td>0</td>\n      <td>...</td>\n      <td>0</td>\n      <td>0</td>\n      <td>0</td>\n      <td>0</td>\n      <td>0</td>\n      <td>0</td>\n      <td>0</td>\n      <td>0</td>\n      <td>0</td>\n      <td>0</td>\n    </tr>\n  </tbody>\n</table>\n<p>5 rows × 1321 columns</p>\n</div>"
     },
     "execution_count": 107,
     "metadata": {},
     "output_type": "execute_result"
    }
   ],
   "source": [
    "df = pd.read_csv('recipes2.csv')\n",
    "df.head()"
   ],
   "metadata": {
    "collapsed": false,
    "pycharm": {
     "name": "#%%\n"
    }
   }
  },
  {
   "cell_type": "code",
   "execution_count": 108,
   "outputs": [],
   "source": [
    "ids = []\n",
    "rows = df.iterrows()\n",
    "\n",
    "for index, row in rows:\n",
    "    recipe = {}\n",
    "    recipe['id'] = row['id']\n",
    "\n",
    "    ids.append(recipe)"
   ],
   "metadata": {
    "collapsed": false,
    "pycharm": {
     "name": "#%%\n"
    }
   }
  },
  {
   "cell_type": "code",
   "execution_count": 109,
   "outputs": [],
   "source": [
    "ids = []\n",
    "rows = df.iterrows()\n",
    "\n",
    "for index, row in rows:\n",
    "    ids.append(row['id'])\n"
   ],
   "metadata": {
    "collapsed": false,
    "pycharm": {
     "name": "#%%\n"
    }
   }
  },
  {
   "cell_type": "code",
   "execution_count": 110,
   "outputs": [],
   "source": [
    "ingredients = []\n",
    "\n",
    "for column in df.columns:\n",
    "    if column == 'id' or column == 'cuisine':\n",
    "        continue\n",
    "    ingredients.append(column)"
   ],
   "metadata": {
    "collapsed": false,
    "pycharm": {
     "name": "#%%\n"
    }
   }
  },
  {
   "cell_type": "code",
   "execution_count": 111,
   "outputs": [],
   "source": [
    "def make_list(row):\n",
    "    current_ingredients = []\n",
    "    for ingredient in ingredients:\n",
    "        if row[ingredient] == 1:\n",
    "            current_ingredients.append(ingredient)\n",
    "    return current_ingredients\n",
    "\n",
    "recipes = []\n",
    "\n",
    "for current_id in ids:\n",
    "    row = df[df['id']==current_id].iloc[0]\n",
    "    recipe = {}\n",
    "\n",
    "    recipe['id'] = current_id\n",
    "    recipe['cuisine'] = row['cuisine']\n",
    "    recipe['ingredients'] = make_list(row)\n",
    "    recipes.append(recipe)"
   ],
   "metadata": {
    "collapsed": false,
    "pycharm": {
     "name": "#%%\n"
    }
   }
  },
  {
   "cell_type": "code",
   "execution_count": 116,
   "outputs": [],
   "source": [
    "with open('new_recipes.json','w') as write_file:\n",
    "    json.dump(recipes, write_file)\n",
    "\n",
    "\n",
    "\n",
    "\n"
   ],
   "metadata": {
    "collapsed": false,
    "pycharm": {
     "name": "#%%\n"
    }
   }
  }
 ],
 "metadata": {
  "kernelspec": {
   "display_name": "Python 3",
   "language": "python",
   "name": "python3"
  },
  "language_info": {
   "codemirror_mode": {
    "name": "ipython",
    "version": 2
   },
   "file_extension": ".py",
   "mimetype": "text/x-python",
   "name": "python",
   "nbconvert_exporter": "python",
   "pygments_lexer": "ipython2",
   "version": "2.7.6"
  }
 },
 "nbformat": 4,
 "nbformat_minor": 0
}