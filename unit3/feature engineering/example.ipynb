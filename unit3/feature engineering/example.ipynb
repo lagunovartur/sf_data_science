{
 "cells": [
  {
   "cell_type": "code",
   "execution_count": 250,
   "metadata": {
    "collapsed": true
   },
   "outputs": [],
   "source": [
    "import pandas as pd\n",
    "import datetime as dt\n"
   ]
  },
  {
   "cell_type": "code",
   "execution_count": 251,
   "outputs": [],
   "source": [
    "log = pd.read_csv(\"log.csv\")\n",
    "log.columns = ['user_id', 'time', 'bet', 'win']\n",
    "log.dropna(subset=['time'],axis=0,inplace=True)\n",
    "log['time'] = log['time'].apply(lambda x: x[1:])\n",
    "log['time'] = pd.to_datetime(log['time'])\n",
    "log['minute'] = log['time'].dt.minute\n",
    "log['month'] = log['time'].dt.month\n",
    "log['day'] = log['time'].dt.day\n",
    "log['year'] = log['time'].dt.year\n",
    "log['day_number'] = (log['time'] - dt.datetime(2018,12,31)).dt.days+1\n",
    "log['week_day_number'] = log['day_number'] % 7\n"
   ],
   "metadata": {
    "collapsed": false,
    "pycharm": {
     "name": "#%%\n"
    }
   }
  },
  {
   "cell_type": "code",
   "execution_count": 252,
   "outputs": [],
   "source": [
    "def day_part(datetime):\n",
    "    if datetime.hour>=0 and datetime.hour<= 5:\n",
    "        return 'night'\n",
    "    elif datetime.hour>5 and datetime.hour<=11:\n",
    "        return 'morning'\n",
    "    elif datetime.hour>11 and datetime.hour<=17:\n",
    "        return 'afternoon'\n",
    "    else:\n",
    "        return 'evening'\n",
    "\n",
    "log['day_part'] = log['time'].apply(day_part)"
   ],
   "metadata": {
    "collapsed": false,
    "pycharm": {
     "name": "#%%\n"
    }
   }
  },
  {
   "cell_type": "code",
   "execution_count": 253,
   "outputs": [
    {
     "data": {
      "text/plain": "                             user_id                time       bet        win  \\\n0   Запись пользователя № - user_973 2019-01-01 14:51:16       NaN        NaN   \n1   Запись пользователя № - user_903 2019-01-01 16:31:16       NaN        NaN   \n2   Запись пользователя № - user_954 2019-01-01 17:17:51       NaN        NaN   \n3   Запись пользователя № - user_954 2019-01-01 21:31:18       NaN        NaN   \n4   Запись пользователя № - user_917 2019-01-01 23:34:55  156789.0        NaN   \n5   Запись пользователя № - user_900 2019-01-01 04:37:25       NaN        NaN   \n6   Запись пользователя № - user_980 2019-01-01 06:31:23       NaN        NaN   \n7   Запись пользователя № - user_906 2019-01-02 10:57:08       NaN        NaN   \n8   Запись пользователя № - user_952 2019-01-02 16:55:06       NaN        NaN   \n9   Запись пользователя № - user_972 2019-01-02 20:47:54       NaN        NaN   \n10  Запись пользователя № - user_966 2019-01-02 21:32:20       NaN        NaN   \n11  Запись пользователя № - user_964 2019-01-02 21:32:35       NaN        NaN   \n12  Запись пользователя № - user_978 2019-01-02 05:25:40       NaN        NaN   \n13  Запись пользователя № - user_917 2019-01-02 08:57:36  145732.0  1987653.0   \n14  Запись пользователя № - user_968 2019-01-02 09:32:24       NaN        NaN   \n15  Запись пользователя № - user_974 2019-01-03 10:43:41       NaN        NaN   \n16  Запись пользователя № - user_998 2019-01-03 11:29:08       NaN        NaN   \n17  Запись пользователя № - user_990 2019-01-03 13:12:46       NaN        NaN   \n18  Запись пользователя № - user_942 2019-01-03 14:03:21   98753.0        NaN   \n19  Запись пользователя № - user_929 2019-01-03 17:20:23       NaN        NaN   \n\n    minute  month  day  year  day_number  week_day_number   day_part  \n0       51      1    1  2019           2                2  afternoon  \n1       31      1    1  2019           2                2  afternoon  \n2       17      1    1  2019           2                2  afternoon  \n3       31      1    1  2019           2                2    evening  \n4       34      1    1  2019           2                2    evening  \n5       37      1    1  2019           2                2      night  \n6       31      1    1  2019           2                2    morning  \n7       57      1    2  2019           3                3    morning  \n8       55      1    2  2019           3                3  afternoon  \n9       47      1    2  2019           3                3    evening  \n10      32      1    2  2019           3                3    evening  \n11      32      1    2  2019           3                3    evening  \n12      25      1    2  2019           3                3      night  \n13      57      1    2  2019           3                3    morning  \n14      32      1    2  2019           3                3    morning  \n15      43      1    3  2019           4                4    morning  \n16      29      1    3  2019           4                4    morning  \n17      12      1    3  2019           4                4  afternoon  \n18       3      1    3  2019           4                4  afternoon  \n19      20      1    3  2019           4                4  afternoon  ",
      "text/html": "<div>\n<style scoped>\n    .dataframe tbody tr th:only-of-type {\n        vertical-align: middle;\n    }\n\n    .dataframe tbody tr th {\n        vertical-align: top;\n    }\n\n    .dataframe thead th {\n        text-align: right;\n    }\n</style>\n<table border=\"1\" class=\"dataframe\">\n  <thead>\n    <tr style=\"text-align: right;\">\n      <th></th>\n      <th>user_id</th>\n      <th>time</th>\n      <th>bet</th>\n      <th>win</th>\n      <th>minute</th>\n      <th>month</th>\n      <th>day</th>\n      <th>year</th>\n      <th>day_number</th>\n      <th>week_day_number</th>\n      <th>day_part</th>\n    </tr>\n  </thead>\n  <tbody>\n    <tr>\n      <th>0</th>\n      <td>Запись пользователя № - user_973</td>\n      <td>2019-01-01 14:51:16</td>\n      <td>NaN</td>\n      <td>NaN</td>\n      <td>51</td>\n      <td>1</td>\n      <td>1</td>\n      <td>2019</td>\n      <td>2</td>\n      <td>2</td>\n      <td>afternoon</td>\n    </tr>\n    <tr>\n      <th>1</th>\n      <td>Запись пользователя № - user_903</td>\n      <td>2019-01-01 16:31:16</td>\n      <td>NaN</td>\n      <td>NaN</td>\n      <td>31</td>\n      <td>1</td>\n      <td>1</td>\n      <td>2019</td>\n      <td>2</td>\n      <td>2</td>\n      <td>afternoon</td>\n    </tr>\n    <tr>\n      <th>2</th>\n      <td>Запись пользователя № - user_954</td>\n      <td>2019-01-01 17:17:51</td>\n      <td>NaN</td>\n      <td>NaN</td>\n      <td>17</td>\n      <td>1</td>\n      <td>1</td>\n      <td>2019</td>\n      <td>2</td>\n      <td>2</td>\n      <td>afternoon</td>\n    </tr>\n    <tr>\n      <th>3</th>\n      <td>Запись пользователя № - user_954</td>\n      <td>2019-01-01 21:31:18</td>\n      <td>NaN</td>\n      <td>NaN</td>\n      <td>31</td>\n      <td>1</td>\n      <td>1</td>\n      <td>2019</td>\n      <td>2</td>\n      <td>2</td>\n      <td>evening</td>\n    </tr>\n    <tr>\n      <th>4</th>\n      <td>Запись пользователя № - user_917</td>\n      <td>2019-01-01 23:34:55</td>\n      <td>156789.0</td>\n      <td>NaN</td>\n      <td>34</td>\n      <td>1</td>\n      <td>1</td>\n      <td>2019</td>\n      <td>2</td>\n      <td>2</td>\n      <td>evening</td>\n    </tr>\n    <tr>\n      <th>5</th>\n      <td>Запись пользователя № - user_900</td>\n      <td>2019-01-01 04:37:25</td>\n      <td>NaN</td>\n      <td>NaN</td>\n      <td>37</td>\n      <td>1</td>\n      <td>1</td>\n      <td>2019</td>\n      <td>2</td>\n      <td>2</td>\n      <td>night</td>\n    </tr>\n    <tr>\n      <th>6</th>\n      <td>Запись пользователя № - user_980</td>\n      <td>2019-01-01 06:31:23</td>\n      <td>NaN</td>\n      <td>NaN</td>\n      <td>31</td>\n      <td>1</td>\n      <td>1</td>\n      <td>2019</td>\n      <td>2</td>\n      <td>2</td>\n      <td>morning</td>\n    </tr>\n    <tr>\n      <th>7</th>\n      <td>Запись пользователя № - user_906</td>\n      <td>2019-01-02 10:57:08</td>\n      <td>NaN</td>\n      <td>NaN</td>\n      <td>57</td>\n      <td>1</td>\n      <td>2</td>\n      <td>2019</td>\n      <td>3</td>\n      <td>3</td>\n      <td>morning</td>\n    </tr>\n    <tr>\n      <th>8</th>\n      <td>Запись пользователя № - user_952</td>\n      <td>2019-01-02 16:55:06</td>\n      <td>NaN</td>\n      <td>NaN</td>\n      <td>55</td>\n      <td>1</td>\n      <td>2</td>\n      <td>2019</td>\n      <td>3</td>\n      <td>3</td>\n      <td>afternoon</td>\n    </tr>\n    <tr>\n      <th>9</th>\n      <td>Запись пользователя № - user_972</td>\n      <td>2019-01-02 20:47:54</td>\n      <td>NaN</td>\n      <td>NaN</td>\n      <td>47</td>\n      <td>1</td>\n      <td>2</td>\n      <td>2019</td>\n      <td>3</td>\n      <td>3</td>\n      <td>evening</td>\n    </tr>\n    <tr>\n      <th>10</th>\n      <td>Запись пользователя № - user_966</td>\n      <td>2019-01-02 21:32:20</td>\n      <td>NaN</td>\n      <td>NaN</td>\n      <td>32</td>\n      <td>1</td>\n      <td>2</td>\n      <td>2019</td>\n      <td>3</td>\n      <td>3</td>\n      <td>evening</td>\n    </tr>\n    <tr>\n      <th>11</th>\n      <td>Запись пользователя № - user_964</td>\n      <td>2019-01-02 21:32:35</td>\n      <td>NaN</td>\n      <td>NaN</td>\n      <td>32</td>\n      <td>1</td>\n      <td>2</td>\n      <td>2019</td>\n      <td>3</td>\n      <td>3</td>\n      <td>evening</td>\n    </tr>\n    <tr>\n      <th>12</th>\n      <td>Запись пользователя № - user_978</td>\n      <td>2019-01-02 05:25:40</td>\n      <td>NaN</td>\n      <td>NaN</td>\n      <td>25</td>\n      <td>1</td>\n      <td>2</td>\n      <td>2019</td>\n      <td>3</td>\n      <td>3</td>\n      <td>night</td>\n    </tr>\n    <tr>\n      <th>13</th>\n      <td>Запись пользователя № - user_917</td>\n      <td>2019-01-02 08:57:36</td>\n      <td>145732.0</td>\n      <td>1987653.0</td>\n      <td>57</td>\n      <td>1</td>\n      <td>2</td>\n      <td>2019</td>\n      <td>3</td>\n      <td>3</td>\n      <td>morning</td>\n    </tr>\n    <tr>\n      <th>14</th>\n      <td>Запись пользователя № - user_968</td>\n      <td>2019-01-02 09:32:24</td>\n      <td>NaN</td>\n      <td>NaN</td>\n      <td>32</td>\n      <td>1</td>\n      <td>2</td>\n      <td>2019</td>\n      <td>3</td>\n      <td>3</td>\n      <td>morning</td>\n    </tr>\n    <tr>\n      <th>15</th>\n      <td>Запись пользователя № - user_974</td>\n      <td>2019-01-03 10:43:41</td>\n      <td>NaN</td>\n      <td>NaN</td>\n      <td>43</td>\n      <td>1</td>\n      <td>3</td>\n      <td>2019</td>\n      <td>4</td>\n      <td>4</td>\n      <td>morning</td>\n    </tr>\n    <tr>\n      <th>16</th>\n      <td>Запись пользователя № - user_998</td>\n      <td>2019-01-03 11:29:08</td>\n      <td>NaN</td>\n      <td>NaN</td>\n      <td>29</td>\n      <td>1</td>\n      <td>3</td>\n      <td>2019</td>\n      <td>4</td>\n      <td>4</td>\n      <td>morning</td>\n    </tr>\n    <tr>\n      <th>17</th>\n      <td>Запись пользователя № - user_990</td>\n      <td>2019-01-03 13:12:46</td>\n      <td>NaN</td>\n      <td>NaN</td>\n      <td>12</td>\n      <td>1</td>\n      <td>3</td>\n      <td>2019</td>\n      <td>4</td>\n      <td>4</td>\n      <td>afternoon</td>\n    </tr>\n    <tr>\n      <th>18</th>\n      <td>Запись пользователя № - user_942</td>\n      <td>2019-01-03 14:03:21</td>\n      <td>98753.0</td>\n      <td>NaN</td>\n      <td>3</td>\n      <td>1</td>\n      <td>3</td>\n      <td>2019</td>\n      <td>4</td>\n      <td>4</td>\n      <td>afternoon</td>\n    </tr>\n    <tr>\n      <th>19</th>\n      <td>Запись пользователя № - user_929</td>\n      <td>2019-01-03 17:20:23</td>\n      <td>NaN</td>\n      <td>NaN</td>\n      <td>20</td>\n      <td>1</td>\n      <td>3</td>\n      <td>2019</td>\n      <td>4</td>\n      <td>4</td>\n      <td>afternoon</td>\n    </tr>\n  </tbody>\n</table>\n</div>"
     },
     "execution_count": 253,
     "metadata": {},
     "output_type": "execute_result"
    }
   ],
   "source": [
    "log.head(20)"
   ],
   "metadata": {
    "collapsed": false,
    "pycharm": {
     "name": "#%%\n"
    }
   }
  },
  {
   "cell_type": "code",
   "execution_count": 254,
   "outputs": [
    {
     "data": {
      "text/plain": "36    25\n31    23\n50    22\n43    21\n14    21\n18    21\n6     21\n12    21\n5     21\n40    21\n29    21\n53    21\n48    20\n2     20\n45    20\n57    20\n58    20\n27    19\n21    19\n56    19\n54    18\n9     18\n20    18\n3     18\n35    18\n34    18\n33    18\n47    18\n10    17\n51    17\n55    16\n25    16\n17    16\n37    15\n15    15\n16    15\n49    15\n30    15\n24    15\n38    15\n28    15\n4     14\n19    14\n7     14\n44    14\n32    14\n1     13\n59    13\n41    13\n23    12\n39    12\n0     12\n13    11\n22    11\n42    11\n46    10\n52    10\n8      9\n26     9\n11     6\nName: minute, dtype: int64"
     },
     "execution_count": 254,
     "metadata": {},
     "output_type": "execute_result"
    }
   ],
   "source": [
    "log['minute'].value_counts()"
   ],
   "metadata": {
    "collapsed": false,
    "pycharm": {
     "name": "#%%\n"
    }
   }
  },
  {
   "cell_type": "code",
   "execution_count": 255,
   "outputs": [
    {
     "data": {
      "text/plain": "1    291\n3    264\n2    259\n4    170\nName: month, dtype: int64"
     },
     "execution_count": 255,
     "metadata": {},
     "output_type": "execute_result"
    }
   ],
   "source": [
    "log['month'].value_counts()\n",
    "\n"
   ],
   "metadata": {
    "collapsed": false,
    "pycharm": {
     "name": "#%%\n"
    }
   }
  },
  {
   "cell_type": "code",
   "execution_count": 256,
   "outputs": [
    {
     "data": {
      "text/plain": "2019    984\nName: year, dtype: int64"
     },
     "execution_count": 256,
     "metadata": {},
     "output_type": "execute_result"
    }
   ],
   "source": [
    "log['year'].value_counts()\n",
    "\n"
   ],
   "metadata": {
    "collapsed": false,
    "pycharm": {
     "name": "#%%\n"
    }
   }
  },
  {
   "cell_type": "code",
   "execution_count": 257,
   "outputs": [
    {
     "data": {
      "text/plain": "6    152\n3    150\n2    149\n5    135\n1    135\n4    132\n0    131\nName: week_day_number, dtype: int64"
     },
     "execution_count": 257,
     "metadata": {},
     "output_type": "execute_result"
    }
   ],
   "source": [
    "log['week_day_number'].value_counts()"
   ],
   "metadata": {
    "collapsed": false,
    "pycharm": {
     "name": "#%%\n"
    }
   }
  },
  {
   "cell_type": "code",
   "execution_count": 258,
   "outputs": [
    {
     "data": {
      "text/plain": "night        265\nmorning      253\nafternoon    239\nevening      227\nName: day_part, dtype: int64"
     },
     "execution_count": 258,
     "metadata": {},
     "output_type": "execute_result"
    }
   ],
   "source": [
    "log['day_part'].value_counts()\n"
   ],
   "metadata": {
    "collapsed": false,
    "pycharm": {
     "name": "#%%\n"
    }
   }
  }
 ],
 "metadata": {
  "kernelspec": {
   "display_name": "Python 3",
   "language": "python",
   "name": "python3"
  },
  "language_info": {
   "codemirror_mode": {
    "name": "ipython",
    "version": 2
   },
   "file_extension": ".py",
   "mimetype": "text/x-python",
   "name": "python",
   "nbconvert_exporter": "python",
   "pygments_lexer": "ipython2",
   "version": "2.7.6"
  }
 },
 "nbformat": 4,
 "nbformat_minor": 0
}