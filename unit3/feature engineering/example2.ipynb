{
 "cells": [
  {
   "cell_type": "code",
   "execution_count": 96,
   "metadata": {
    "collapsed": true,
    "pycharm": {
     "name": "#%%\n"
    }
   },
   "outputs": [],
   "source": [
    "# ваш код здесь\n",
    "\n",
    "\n",
    "import pandas as pd\n",
    "import numpy as np\n",
    "\n",
    "log = pd.read_csv(\"log.csv\",header=None)\n",
    "log.columns = ['user_id', 'time', 'bet', 'win']\n",
    "log = log[log['user_id']!='#error']\n",
    "log['user_id'] = log['user_id'].apply(lambda x:x.replace('Запись пользователя № -','').strip())\n",
    "log['time'] = log['time'].apply(lambda x:x.replace('[',''))\n",
    "log['time'] = pd.to_datetime(log['time'])\n",
    "log['bet'].fillna(0,inplace=True)\n",
    "log['win'].fillna(0,inplace=True)"
   ]
  },
  {
   "cell_type": "code",
   "execution_count": 97,
   "outputs": [
    {
     "data": {
      "text/plain": "    user_id                time  bet  win\n0  user_919 2019-01-01 14:06:51  0.0  0.0\n1  user_973 2019-01-01 14:51:16  0.0  0.0\n2  user_903 2019-01-01 16:31:16  0.0  0.0\n3  user_954 2019-01-01 17:17:51  0.0  0.0\n4  user_954 2019-01-01 21:31:18  0.0  0.0",
      "text/html": "<div>\n<style scoped>\n    .dataframe tbody tr th:only-of-type {\n        vertical-align: middle;\n    }\n\n    .dataframe tbody tr th {\n        vertical-align: top;\n    }\n\n    .dataframe thead th {\n        text-align: right;\n    }\n</style>\n<table border=\"1\" class=\"dataframe\">\n  <thead>\n    <tr style=\"text-align: right;\">\n      <th></th>\n      <th>user_id</th>\n      <th>time</th>\n      <th>bet</th>\n      <th>win</th>\n    </tr>\n  </thead>\n  <tbody>\n    <tr>\n      <th>0</th>\n      <td>user_919</td>\n      <td>2019-01-01 14:06:51</td>\n      <td>0.0</td>\n      <td>0.0</td>\n    </tr>\n    <tr>\n      <th>1</th>\n      <td>user_973</td>\n      <td>2019-01-01 14:51:16</td>\n      <td>0.0</td>\n      <td>0.0</td>\n    </tr>\n    <tr>\n      <th>2</th>\n      <td>user_903</td>\n      <td>2019-01-01 16:31:16</td>\n      <td>0.0</td>\n      <td>0.0</td>\n    </tr>\n    <tr>\n      <th>3</th>\n      <td>user_954</td>\n      <td>2019-01-01 17:17:51</td>\n      <td>0.0</td>\n      <td>0.0</td>\n    </tr>\n    <tr>\n      <th>4</th>\n      <td>user_954</td>\n      <td>2019-01-01 21:31:18</td>\n      <td>0.0</td>\n      <td>0.0</td>\n    </tr>\n  </tbody>\n</table>\n</div>"
     },
     "execution_count": 97,
     "metadata": {},
     "output_type": "execute_result"
    }
   ],
   "source": [
    "log.head()"
   ],
   "metadata": {
    "collapsed": false,
    "pycharm": {
     "name": "#%%\n"
    }
   }
  },
  {
   "cell_type": "code",
   "execution_count": 98,
   "outputs": [],
   "source": [
    "users = pd.read_csv('users.csv',encoding='koi8_r',sep='\\t')\n",
    "users.columns = ['user_id','email','city']\n",
    "users['user_id'] = users['user_id'].apply(lambda x:x.lower().strip())"
   ],
   "metadata": {
    "collapsed": false,
    "pycharm": {
     "name": "#%%\n"
    }
   }
  },
  {
   "cell_type": "code",
   "execution_count": 99,
   "outputs": [],
   "source": [
    "users_log = pd.merge(log,users,how='inner',on='user_id')"
   ],
   "metadata": {
    "collapsed": false,
    "pycharm": {
     "name": "#%%\n"
    }
   }
  },
  {
   "cell_type": "code",
   "execution_count": 100,
   "outputs": [
    {
     "data": {
      "text/plain": "    user_id                time    bet  win                   email       city\n0  user_919 2019-01-01 14:06:51    0.0  0.0  Chikkaverle@icloud.com  Хабаровск\n1  user_919 2019-01-30 10:06:00    0.0  0.0  Chikkaverle@icloud.com  Хабаровск\n2  user_919 2019-02-05 14:33:44    0.0  0.0  Chikkaverle@icloud.com  Хабаровск\n3  user_919 2019-02-14 11:38:05    0.0  0.0  Chikkaverle@icloud.com  Хабаровск\n4  user_919 2019-03-02 04:23:36  300.0  0.0  Chikkaverle@icloud.com  Хабаровск",
      "text/html": "<div>\n<style scoped>\n    .dataframe tbody tr th:only-of-type {\n        vertical-align: middle;\n    }\n\n    .dataframe tbody tr th {\n        vertical-align: top;\n    }\n\n    .dataframe thead th {\n        text-align: right;\n    }\n</style>\n<table border=\"1\" class=\"dataframe\">\n  <thead>\n    <tr style=\"text-align: right;\">\n      <th></th>\n      <th>user_id</th>\n      <th>time</th>\n      <th>bet</th>\n      <th>win</th>\n      <th>email</th>\n      <th>city</th>\n    </tr>\n  </thead>\n  <tbody>\n    <tr>\n      <th>0</th>\n      <td>user_919</td>\n      <td>2019-01-01 14:06:51</td>\n      <td>0.0</td>\n      <td>0.0</td>\n      <td>Chikkaverle@icloud.com</td>\n      <td>Хабаровск</td>\n    </tr>\n    <tr>\n      <th>1</th>\n      <td>user_919</td>\n      <td>2019-01-30 10:06:00</td>\n      <td>0.0</td>\n      <td>0.0</td>\n      <td>Chikkaverle@icloud.com</td>\n      <td>Хабаровск</td>\n    </tr>\n    <tr>\n      <th>2</th>\n      <td>user_919</td>\n      <td>2019-02-05 14:33:44</td>\n      <td>0.0</td>\n      <td>0.0</td>\n      <td>Chikkaverle@icloud.com</td>\n      <td>Хабаровск</td>\n    </tr>\n    <tr>\n      <th>3</th>\n      <td>user_919</td>\n      <td>2019-02-14 11:38:05</td>\n      <td>0.0</td>\n      <td>0.0</td>\n      <td>Chikkaverle@icloud.com</td>\n      <td>Хабаровск</td>\n    </tr>\n    <tr>\n      <th>4</th>\n      <td>user_919</td>\n      <td>2019-03-02 04:23:36</td>\n      <td>300.0</td>\n      <td>0.0</td>\n      <td>Chikkaverle@icloud.com</td>\n      <td>Хабаровск</td>\n    </tr>\n  </tbody>\n</table>\n</div>"
     },
     "execution_count": 100,
     "metadata": {},
     "output_type": "execute_result"
    }
   ],
   "source": [
    "users_log.head()"
   ],
   "metadata": {
    "collapsed": false,
    "pycharm": {
     "name": "#%%\n"
    }
   }
  },
  {
   "cell_type": "code",
   "execution_count": 101,
   "outputs": [
    {
     "data": {
      "text/plain": "     user_id    first_visit_time      first_bet_time before_first_bet  \\\n0  user_1000 2019-01-21 19:31:34 2019-01-28 20:57:37  7 days 01:26:03   \n1   user_900 2019-01-01 04:37:25 2019-02-08 10:36:47 38 days 05:59:22   \n2   user_901 2019-01-07 08:45:59 2019-03-14 13:51:20 66 days 05:05:21   \n3   user_902 2019-01-28 03:12:06 2019-03-09 16:52:11 40 days 13:40:05   \n4   user_903 2019-01-01 16:31:16 2019-02-08 11:06:00 37 days 18:34:44   \n\n   days_before_first_bet  \n0                      7  \n1                     38  \n2                     66  \n3                     40  \n4                     37  ",
      "text/html": "<div>\n<style scoped>\n    .dataframe tbody tr th:only-of-type {\n        vertical-align: middle;\n    }\n\n    .dataframe tbody tr th {\n        vertical-align: top;\n    }\n\n    .dataframe thead th {\n        text-align: right;\n    }\n</style>\n<table border=\"1\" class=\"dataframe\">\n  <thead>\n    <tr style=\"text-align: right;\">\n      <th></th>\n      <th>user_id</th>\n      <th>first_visit_time</th>\n      <th>first_bet_time</th>\n      <th>before_first_bet</th>\n      <th>days_before_first_bet</th>\n    </tr>\n  </thead>\n  <tbody>\n    <tr>\n      <th>0</th>\n      <td>user_1000</td>\n      <td>2019-01-21 19:31:34</td>\n      <td>2019-01-28 20:57:37</td>\n      <td>7 days 01:26:03</td>\n      <td>7</td>\n    </tr>\n    <tr>\n      <th>1</th>\n      <td>user_900</td>\n      <td>2019-01-01 04:37:25</td>\n      <td>2019-02-08 10:36:47</td>\n      <td>38 days 05:59:22</td>\n      <td>38</td>\n    </tr>\n    <tr>\n      <th>2</th>\n      <td>user_901</td>\n      <td>2019-01-07 08:45:59</td>\n      <td>2019-03-14 13:51:20</td>\n      <td>66 days 05:05:21</td>\n      <td>66</td>\n    </tr>\n    <tr>\n      <th>3</th>\n      <td>user_902</td>\n      <td>2019-01-28 03:12:06</td>\n      <td>2019-03-09 16:52:11</td>\n      <td>40 days 13:40:05</td>\n      <td>40</td>\n    </tr>\n    <tr>\n      <th>4</th>\n      <td>user_903</td>\n      <td>2019-01-01 16:31:16</td>\n      <td>2019-02-08 11:06:00</td>\n      <td>37 days 18:34:44</td>\n      <td>37</td>\n    </tr>\n  </tbody>\n</table>\n</div>"
     },
     "execution_count": 101,
     "metadata": {},
     "output_type": "execute_result"
    }
   ],
   "source": [
    "first_bet_time   = users_log[users_log['bet']>0].groupby('user_id',as_index=False)['time'].min()\n",
    "first_bet_time.rename({'time':'first_bet_time'},axis=1,inplace=True)\n",
    "first_bet_time.head()\n",
    "first_visit_time = users_log[users_log['bet']==0].groupby('user_id',as_index=False)['time'].min()\n",
    "first_visit_time.rename({'time':'first_visit_time'},axis=1,inplace=True)\n",
    "first_bet = pd.merge(first_visit_time,first_bet_time,'inner','user_id')\n",
    "first_bet['before_first_bet'] = first_bet['first_bet_time'] - first_bet['first_visit_time']\n",
    "first_bet['days_before_first_bet'] = first_bet['before_first_bet'].dt.days\n",
    "first_bet.head()"
   ],
   "metadata": {
    "collapsed": false,
    "pycharm": {
     "name": "#%%\n"
    }
   }
  },
  {
   "cell_type": "code",
   "execution_count": 102,
   "outputs": [
    {
     "data": {
      "text/plain": "45.79"
     },
     "execution_count": 102,
     "metadata": {},
     "output_type": "execute_result"
    }
   ],
   "source": [
    "first_bet['days_before_first_bet'].mean()"
   ],
   "metadata": {
    "collapsed": false,
    "pycharm": {
     "name": "#%%\n"
    }
   }
  },
  {
   "cell_type": "code",
   "execution_count": 103,
   "outputs": [],
   "source": [
    "mean_bet = users_log[users_log['bet']>0].groupby('city',as_index=False)['bet'].mean()\n"
   ],
   "metadata": {
    "collapsed": false,
    "pycharm": {
     "name": "#%%\n"
    }
   }
  },
  {
   "cell_type": "code",
   "execution_count": 104,
   "outputs": [
    {
     "data": {
      "text/plain": "           city          bet\n0   Арзангелтск  1415.911111\n1       Воронеж  2119.745455\n2  Екатеринбург   486.956522\n3        Ижевск  2058.437500\n4        Казань  1572.066667",
      "text/html": "<div>\n<style scoped>\n    .dataframe tbody tr th:only-of-type {\n        vertical-align: middle;\n    }\n\n    .dataframe tbody tr th {\n        vertical-align: top;\n    }\n\n    .dataframe thead th {\n        text-align: right;\n    }\n</style>\n<table border=\"1\" class=\"dataframe\">\n  <thead>\n    <tr style=\"text-align: right;\">\n      <th></th>\n      <th>city</th>\n      <th>bet</th>\n    </tr>\n  </thead>\n  <tbody>\n    <tr>\n      <th>0</th>\n      <td>Арзангелтск</td>\n      <td>1415.911111</td>\n    </tr>\n    <tr>\n      <th>1</th>\n      <td>Воронеж</td>\n      <td>2119.745455</td>\n    </tr>\n    <tr>\n      <th>2</th>\n      <td>Екатеринбург</td>\n      <td>486.956522</td>\n    </tr>\n    <tr>\n      <th>3</th>\n      <td>Ижевск</td>\n      <td>2058.437500</td>\n    </tr>\n    <tr>\n      <th>4</th>\n      <td>Казань</td>\n      <td>1572.066667</td>\n    </tr>\n  </tbody>\n</table>\n</div>"
     },
     "execution_count": 104,
     "metadata": {},
     "output_type": "execute_result"
    }
   ],
   "source": [
    "mean_bet.head()\n",
    "\n"
   ],
   "metadata": {
    "collapsed": false,
    "pycharm": {
     "name": "#%%\n"
    }
   }
  },
  {
   "cell_type": "code",
   "execution_count": 105,
   "outputs": [
    {
     "name": "stdout",
     "output_type": "stream",
     "text": [
      "62240.846153846156\n"
     ]
    }
   ],
   "source": [
    "max_city_bet = mean_bet['bet'].max()\n",
    "print(max_city_bet)"
   ],
   "metadata": {
    "collapsed": false,
    "pycharm": {
     "name": "#%%\n"
    }
   }
  },
  {
   "cell_type": "code",
   "execution_count": 106,
   "outputs": [
    {
     "name": "stdout",
     "output_type": "stream",
     "text": [
      "486.95652173913044\n"
     ]
    }
   ],
   "source": [
    "min_city_bet = mean_bet['bet'].min()\n",
    "print(min_city_bet)"
   ],
   "metadata": {
    "collapsed": false,
    "pycharm": {
     "name": "#%%\n"
    }
   }
  },
  {
   "cell_type": "code",
   "execution_count": 107,
   "outputs": [
    {
     "data": {
      "text/plain": "127.81602335164835"
     },
     "execution_count": 107,
     "metadata": {},
     "output_type": "execute_result"
    }
   ],
   "source": [
    "max_city_bet/min_city_bet"
   ],
   "metadata": {
    "collapsed": false,
    "pycharm": {
     "name": "#%%\n"
    }
   }
  }
 ],
 "metadata": {
  "kernelspec": {
   "display_name": "Python 3",
   "language": "python",
   "name": "python3"
  },
  "language_info": {
   "codemirror_mode": {
    "name": "ipython",
    "version": 2
   },
   "file_extension": ".py",
   "mimetype": "text/x-python",
   "name": "python",
   "nbconvert_exporter": "python",
   "pygments_lexer": "ipython2",
   "version": "2.7.6"
  }
 },
 "nbformat": 4,
 "nbformat_minor": 0
}